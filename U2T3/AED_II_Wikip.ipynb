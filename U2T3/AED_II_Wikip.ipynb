{
  "nbformat": 4,
  "nbformat_minor": 0,
  "metadata": {
    "colab": {
      "provenance": []
    },
    "kernelspec": {
      "name": "python3",
      "display_name": "Python 3"
    },
    "language_info": {
      "name": "python"
    }
  },
  "cells": [
    {
      "cell_type": "code",
      "execution_count": null,
      "metadata": {
        "colab": {
          "base_uri": "https://localhost:8080/"
        },
        "id": "tPSr57s34YV0",
        "outputId": "938214f2-a89a-427e-c2da-983b75c786e5"
      },
      "outputs": [
        {
          "output_type": "stream",
          "name": "stdout",
          "text": [
            "Collecting wikipedia-api\n",
            "  Downloading Wikipedia_API-0.6.0-py3-none-any.whl (14 kB)\n",
            "Requirement already satisfied: requests in /usr/local/lib/python3.10/dist-packages (from wikipedia-api) (2.31.0)\n",
            "Requirement already satisfied: charset-normalizer<4,>=2 in /usr/local/lib/python3.10/dist-packages (from requests->wikipedia-api) (3.3.2)\n",
            "Requirement already satisfied: idna<4,>=2.5 in /usr/local/lib/python3.10/dist-packages (from requests->wikipedia-api) (3.6)\n",
            "Requirement already satisfied: urllib3<3,>=1.21.1 in /usr/local/lib/python3.10/dist-packages (from requests->wikipedia-api) (2.0.7)\n",
            "Requirement already satisfied: certifi>=2017.4.17 in /usr/local/lib/python3.10/dist-packages (from requests->wikipedia-api) (2023.11.17)\n",
            "Installing collected packages: wikipedia-api\n",
            "Successfully installed wikipedia-api-0.6.0\n"
          ]
        }
      ],
      "source": [
        "pip install wikipedia-api"
      ]
    },
    {
      "cell_type": "code",
      "source": [
        "import wikipediaapi\n",
        "import networkx as nx\n",
        "import matplotlib.pyplot as plt\n",
        "\n",
        "def crawl_wikipedia(seed_titles, depth_limit):\n",
        "    # Especifique um agente do usuário para evitar o erro\n",
        "    wiki_wiki = wikipediaapi.Wikipedia('pt')\n",
        "    wiki_wiki.session.headers['User-Agent'] = 'my-application/1.0'\n",
        "\n",
        "    # Inicializa o grafo dirigido\n",
        "    G = nx.DiGraph()\n",
        "\n",
        "    # Adiciona as SEEDs ao grafo\n",
        "    for seed_title in seed_titles:\n",
        "        page = wiki_wiki.page(seed_title)\n",
        "        G.add_node(seed_title)\n",
        "\n",
        "        # Adiciona links da SEED\n",
        "        for link_title in page.links.keys():\n",
        "            G.add_node(link_title)\n",
        "            G.add_edge(seed_title, link_title)\n",
        "\n",
        "            # Adiciona links de segunda camada (profundidade 2)\n",
        "            if depth_limit > 1:\n",
        "                sub_page = wiki_wiki.page(link_title)\n",
        "                for sub_link_title in sub_page.links.keys():\n",
        "                    G.add_node(sub_link_title)\n",
        "                    G.add_edge(link_title, sub_link_title)\n",
        "\n",
        "    return G\n",
        "\n",
        "# Lista de SEEDs\n",
        "seed_titles = ['Python (linguagem de programação)', 'Inteligência artificial', 'Rede neural', 'Algoritmo']\n",
        "\n",
        "# Profundidade máxima da rede\n",
        "depth_limit = 2\n",
        "\n",
        "# Cria a rede dirigida\n",
        "wiki_graph = crawl_wikipedia(seed_titles, depth_limit)\n",
        "\n",
        "# Desenha a rede\n",
        "pos = nx.spring_layout(wiki_graph)\n",
        "nx.draw(wiki_graph, pos, with_labels=True, font_size=8, node_size=300, font_color='black', font_weight='bold', arrowsize=8)\n",
        "plt.show()\n"
      ],
      "metadata": {
        "colab": {
          "base_uri": "https://localhost:8080/",
          "height": 407
        },
        "id": "CoJ5nsqm4mnB",
        "outputId": "a6b3d7d3-42e3-4205-a220-2cbaa81e8f09"
      },
      "execution_count": null,
      "outputs": [
        {
          "output_type": "error",
          "ename": "AssertionError",
          "evalue": "ignored",
          "traceback": [
            "\u001b[0;31m---------------------------------------------------------------------------\u001b[0m",
            "\u001b[0;31mAssertionError\u001b[0m                            Traceback (most recent call last)",
            "\u001b[0;32m<ipython-input-5-b7b07384a477>\u001b[0m in \u001b[0;36m<cell line: 39>\u001b[0;34m()\u001b[0m\n\u001b[1;32m     37\u001b[0m \u001b[0;34m\u001b[0m\u001b[0m\n\u001b[1;32m     38\u001b[0m \u001b[0;31m# Cria a rede dirigida\u001b[0m\u001b[0;34m\u001b[0m\u001b[0;34m\u001b[0m\u001b[0m\n\u001b[0;32m---> 39\u001b[0;31m \u001b[0mwiki_graph\u001b[0m \u001b[0;34m=\u001b[0m \u001b[0mcrawl_wikipedia\u001b[0m\u001b[0;34m(\u001b[0m\u001b[0mseed_titles\u001b[0m\u001b[0;34m,\u001b[0m \u001b[0mdepth_limit\u001b[0m\u001b[0;34m)\u001b[0m\u001b[0;34m\u001b[0m\u001b[0;34m\u001b[0m\u001b[0m\n\u001b[0m\u001b[1;32m     40\u001b[0m \u001b[0;34m\u001b[0m\u001b[0m\n\u001b[1;32m     41\u001b[0m \u001b[0;31m# Desenha a rede\u001b[0m\u001b[0;34m\u001b[0m\u001b[0;34m\u001b[0m\u001b[0m\n",
            "\u001b[0;32m<ipython-input-5-b7b07384a477>\u001b[0m in \u001b[0;36mcrawl_wikipedia\u001b[0;34m(seed_titles, depth_limit)\u001b[0m\n\u001b[1;32m      5\u001b[0m \u001b[0;32mdef\u001b[0m \u001b[0mcrawl_wikipedia\u001b[0m\u001b[0;34m(\u001b[0m\u001b[0mseed_titles\u001b[0m\u001b[0;34m,\u001b[0m \u001b[0mdepth_limit\u001b[0m\u001b[0;34m)\u001b[0m\u001b[0;34m:\u001b[0m\u001b[0;34m\u001b[0m\u001b[0;34m\u001b[0m\u001b[0m\n\u001b[1;32m      6\u001b[0m     \u001b[0;31m# Especifique um agente do usuário para evitar o erro\u001b[0m\u001b[0;34m\u001b[0m\u001b[0;34m\u001b[0m\u001b[0m\n\u001b[0;32m----> 7\u001b[0;31m     \u001b[0mwiki_wiki\u001b[0m \u001b[0;34m=\u001b[0m \u001b[0mwikipediaapi\u001b[0m\u001b[0;34m.\u001b[0m\u001b[0mWikipedia\u001b[0m\u001b[0;34m(\u001b[0m\u001b[0;34m'pt'\u001b[0m\u001b[0;34m)\u001b[0m\u001b[0;34m\u001b[0m\u001b[0;34m\u001b[0m\u001b[0m\n\u001b[0m\u001b[1;32m      8\u001b[0m     \u001b[0mwiki_wiki\u001b[0m\u001b[0;34m.\u001b[0m\u001b[0msession\u001b[0m\u001b[0;34m.\u001b[0m\u001b[0mheaders\u001b[0m\u001b[0;34m[\u001b[0m\u001b[0;34m'User-Agent'\u001b[0m\u001b[0;34m]\u001b[0m \u001b[0;34m=\u001b[0m \u001b[0;34m'my-application/1.0'\u001b[0m\u001b[0;34m\u001b[0m\u001b[0;34m\u001b[0m\u001b[0m\n\u001b[1;32m      9\u001b[0m \u001b[0;34m\u001b[0m\u001b[0m\n",
            "\u001b[0;32m/usr/local/lib/python3.10/dist-packages/wikipediaapi/__init__.py\u001b[0m in \u001b[0;36m__init__\u001b[0;34m(self, user_agent, language, extract_format, headers, **kwargs)\u001b[0m\n\u001b[1;32m    164\u001b[0m         \u001b[0mused_user_agent\u001b[0m \u001b[0;34m=\u001b[0m \u001b[0mdefault_headers\u001b[0m\u001b[0;34m.\u001b[0m\u001b[0mget\u001b[0m\u001b[0;34m(\u001b[0m\u001b[0;34m\"User-Agent\"\u001b[0m\u001b[0;34m)\u001b[0m\u001b[0;34m\u001b[0m\u001b[0;34m\u001b[0m\u001b[0m\n\u001b[1;32m    165\u001b[0m         \u001b[0;32mif\u001b[0m \u001b[0;32mnot\u001b[0m \u001b[0;34m(\u001b[0m\u001b[0mused_user_agent\u001b[0m \u001b[0;32mand\u001b[0m \u001b[0mlen\u001b[0m\u001b[0;34m(\u001b[0m\u001b[0mused_user_agent\u001b[0m\u001b[0;34m)\u001b[0m \u001b[0;34m>\u001b[0m \u001b[0;36m5\u001b[0m\u001b[0;34m)\u001b[0m\u001b[0;34m:\u001b[0m\u001b[0;34m\u001b[0m\u001b[0;34m\u001b[0m\u001b[0m\n\u001b[0;32m--> 166\u001b[0;31m             raise AssertionError(\n\u001b[0m\u001b[1;32m    167\u001b[0m                 \u001b[0;34m\"Please, be nice to Wikipedia and specify user agent - \"\u001b[0m\u001b[0;34m\u001b[0m\u001b[0;34m\u001b[0m\u001b[0m\n\u001b[1;32m    168\u001b[0m                 \u001b[0;34m+\u001b[0m \u001b[0;34m\"https://meta.wikimedia.org/wiki/User-Agent_policy. Current user_agent: '\"\u001b[0m\u001b[0;34m\u001b[0m\u001b[0;34m\u001b[0m\u001b[0m\n",
            "\u001b[0;31mAssertionError\u001b[0m: Please, be nice to Wikipedia and specify user agent - https://meta.wikimedia.org/wiki/User-Agent_policy. Current user_agent: 'pt' is not sufficient."
          ]
        }
      ]
    }
  ]
}